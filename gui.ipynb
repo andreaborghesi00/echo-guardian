{
 "cells": [
  {
   "cell_type": "code",
   "execution_count": 1,
   "metadata": {
    "title": "[GUI]"
   },
   "outputs": [
    {
     "name": "stderr",
     "output_type": "stream",
     "text": [
      "2024-05-09 13:24:34.792 \n",
      "  \u001b[33m\u001b[1mWarning:\u001b[0m to view this Streamlit app on a browser, run it with the following\n",
      "  command:\n",
      "\n",
      "    streamlit run /home/andrea/.local/lib/python3.10/site-packages/ipykernel_launcher.py [ARGUMENTS]\n"
     ]
    }
   ],
   "source": [
    "import streamlit as st\n",
    "import plotly.graph_objects as go\n",
    "import plotly.express as px\n",
    "from PIL import Image\n",
    "import numpy as np\n",
    "import cv2 as cv\n",
    "from common import Sketcher\n",
    "\n",
    "st.set_page_config(layout=\"wide\")\n",
    "\n",
    "# Define layout\n",
    "col1, col2 = st.columns([0.2, 0.8])\n",
    "\n",
    "with col1: \n",
    "    st.title('Tumor detector SIUUUUUUUU')\n",
    "\n",
    "    # Load image\n",
    "    uploaded_file = st.file_uploader('Choose an image', type=['png', 'jpg', 'jpeg', 'tiff', 'tif'])\n",
    "\n",
    "    # fig = go.Figure()\n",
    "    # if uploaded_file is not None:\n",
    "    #     img = Image.open(uploaded_file)\n",
    "    #     fig = px.imshow(img)\n",
    "    #     fig.update_layout(\n",
    "    #         dragmode=\"drawclosedpath\",\n",
    "    #         newshape_line_color=\"cyan\",\n",
    "    #         title_text=\"Select the region of interest\",\n",
    "    #     )\n",
    "\n",
    "    # config = dict(\n",
    "    #     {\n",
    "    #         \"scrollZoom\": True,\n",
    "    #         \"displayModeBar\": True,\n",
    "    #         # 'editable'              : True,\n",
    "    #         \"modeBarButtonsToAdd\": [\n",
    "    #             \"drawline\", \n",
    "    #             \"drawopenpath\",\n",
    "    #             \"drawclosedpath\",\n",
    "    #             \"drawcircle\",\n",
    "    #             \"drawrect\",\n",
    "    #             \"eraseshape\",\n",
    "    #         ],\n",
    "    #         \"toImageButtonOptions\": {\"format\": \"svg\"},\n",
    "    #     })\n",
    "\n",
    "with col2:\n",
    "    if uploaded_file is not None:\n",
    "        # img = cv.imread(uploaded_file)\n",
    "        img = Image.open(uploaded_file)\n",
    "        img = np.array(img)\n",
    "        img_mark = img.copy()\n",
    "        mark = np.zeros(img.shape[:2], np.uint8)\n",
    "        sketch = Sketcher('img', [img_mark, mark], lambda : ((255, 255, 255), 255))\n",
    "\n",
    "        while True:\n",
    "            ch = cv.waitKey()\n",
    "            if ch == 27:\n",
    "                break\n",
    "            if ch == ord(' '):\n",
    "                res = cv.inpaint(img_mark, mark, 3, cv.INPAINT_TELEA)\n",
    "                cv.imshow('inpaint', res)\n",
    "                st.image(res, caption='Inpainted Image', use_column_width=True)  # Display the image using Streamlit\n",
    "            if ch == ord('r'):\n",
    "                img_mark[:] = img\n",
    "                mark[:] = 0\n",
    "                sketch.show()\n",
    "    # st.plotly_chart(fig, config=config)"
   ]
  },
  {
   "cell_type": "code",
   "execution_count": 2,
   "id": "55a08abf",
   "metadata": {},
   "outputs": [
    {
     "name": "stdout",
     "output_type": "stream",
     "text": [
      "ciao\n"
     ]
    }
   ],
   "source": [
    "print('ciao')"
   ]
  }
 ],
 "metadata": {
  "jupytext": {
   "formats": "ipynb,py:percent",
   "main_language": "python"
  },
  "kernelspec": {
   "display_name": "Python 3",
   "language": "python",
   "name": "python3"
  },
  "language_info": {
   "codemirror_mode": {
    "name": "ipython",
    "version": 3
   },
   "file_extension": ".py",
   "mimetype": "text/x-python",
   "name": "python",
   "nbconvert_exporter": "python",
   "pygments_lexer": "ipython3",
   "version": "3.10.12"
  }
 },
 "nbformat": 4,
 "nbformat_minor": 2
}
