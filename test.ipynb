{
 "cells": [
  {
   "cell_type": "code",
   "execution_count": 65,
   "metadata": {},
   "outputs": [],
   "source": [
    "class SvgPath:\n",
    "    def __init__(self, contour):\n",
    "        self.contour = contour\n",
    "        self.path = self.generate_path()\n",
    "\n",
    "    def generate_path(self):\n",
    "        if len(self.contour) == 0:\n",
    "            return \"\"\n",
    "        path = \"M\"\n",
    "        for i in range(len(self.contour)):\n",
    "            x, y = self.contour[i][0]\n",
    "            if i == len(self.contour) - 1:\n",
    "                path += f\"{float(x)},{float(y)}\"\n",
    "            else:\n",
    "                path += f\"{float(x)},{float(y)}L\"\n",
    "        path += \"Z\"\n",
    "        return path\n",
    "\n",
    "    def to_dict(self):\n",
    "        return {\n",
    "            \"editable\": True,\n",
    "            \"label\": {\"text\": \"\"},\n",
    "            \"xref\": \"x\",\n",
    "            \"yref\": \"y\",\n",
    "            \"layer\": \"above\",\n",
    "            \"opacity\": 1,\n",
    "            \"line\": {\"color\": \"#444\", \"width\": 4, \"dash\": \"solid\"},\n",
    "            \"fillcolor\": \"rgba(0,0,0,0)\",\n",
    "            \"fillrule\": \"evenodd\",\n",
    "            \"type\": \"path\",\n",
    "            \"path\": self.path\n",
    "        }"
   ]
  },
  {
   "cell_type": "code",
   "execution_count": 66,
   "metadata": {},
   "outputs": [
    {
     "name": "stdout",
     "output_type": "stream",
     "text": [
      "<class 'numpy.ndarray'>\n",
      "(471, 569)\n",
      "3\n",
      "{'editable': True, 'label': {'text': ''}, 'xref': 'x', 'yref': 'y', 'layer': 'above', 'opacity': 1, 'line': {'color': '#444', 'width': 4, 'dash': 'solid'}, 'fillcolor': 'rgba(0,0,0,0)', 'fillrule': 'evenodd', 'type': 'path', 'path': 'M263.0,165.0Z'}\n",
      "{'editable': True, 'label': {'text': ''}, 'xref': 'x', 'yref': 'y', 'layer': 'above', 'opacity': 1, 'line': {'color': '#444', 'width': 4, 'dash': 'solid'}, 'fillcolor': 'rgba(0,0,0,0)', 'fillrule': 'evenodd', 'type': 'path', 'path': 'M229.0,84.0L224.0,85.0L219.0,86.0L215.0,87.0L199.0,95.0L197.0,97.0L189.0,101.0L172.0,101.0L169.0,103.0L167.0,103.0L158.0,108.0L156.0,108.0L152.0,110.0L150.0,112.0L145.0,114.0L143.0,116.0L140.0,117.0L137.0,119.0L134.0,121.0L131.0,123.0L130.0,126.0L147.0,126.0L154.0,127.0L155.0,128.0L167.0,128.0L174.0,129.0L178.0,130.0L183.0,131.0L187.0,133.0L189.0,135.0L194.0,137.0L198.0,140.0L201.0,143.0L204.0,145.0L220.0,153.0L223.0,154.0L225.0,154.0L228.0,156.0L230.0,156.0L233.0,158.0L236.0,159.0L239.0,160.0L241.0,160.0L244.0,162.0L249.0,163.0L256.0,164.0L260.0,164.0L258.0,164.0L255.0,163.0L251.0,159.0L250.0,156.0L248.0,155.0L249.0,153.0L251.0,151.0L254.0,151.0L259.0,150.0L260.0,149.0L269.0,149.0L274.0,154.0L275.0,157.0L277.0,159.0L280.0,161.0L284.0,164.0L286.0,165.0L289.0,166.0L292.0,167.0L295.0,168.0L298.0,169.0L302.0,170.0L309.0,171.0L316.0,172.0L332.0,172.0L336.0,171.0L339.0,170.0L343.0,169.0L346.0,168.0L349.0,166.0L351.0,166.0L353.0,165.0L355.0,163.0L359.0,161.0L365.0,160.0L369.0,160.0L374.0,159.0L378.0,158.0L382.0,157.0L386.0,156.0L389.0,155.0L390.0,154.0L394.0,153.0L399.0,152.0L403.0,151.0L407.0,151.0L411.0,150.0L412.0,149.0L416.0,148.0L420.0,147.0L424.0,146.0L429.0,146.0L434.0,145.0L440.0,144.0L443.0,143.0L445.0,141.0L444.0,137.0L440.0,137.0L434.0,136.0L433.0,135.0L427.0,134.0L413.0,134.0L396.0,135.0L391.0,134.0L377.0,127.0L374.0,124.0L372.0,122.0L369.0,119.0L367.0,116.0L361.0,103.0L357.0,98.0L351.0,92.0L348.0,91.0L329.0,91.0L323.0,90.0L318.0,89.0L317.0,88.0L306.0,87.0L295.0,87.0L287.0,88.0L286.0,89.0L270.0,89.0L261.0,88.0L255.0,87.0L252.0,86.0L251.0,85.0L247.0,84.0Z'}\n",
      "{'editable': True, 'label': {'text': ''}, 'xref': 'x', 'yref': 'y', 'layer': 'above', 'opacity': 1, 'line': {'color': '#444', 'width': 4, 'dash': 'solid'}, 'fillcolor': 'rgba(0,0,0,0)', 'fillrule': 'evenodd', 'type': 'path', 'path': 'M195.0,58.0L194.0,60.0L194.0,63.0L192.0,65.0L180.0,65.0L178.0,66.0L174.0,70.0L177.0,71.0L180.0,74.0L183.0,74.0L185.0,75.0L187.0,77.0L189.0,77.0L191.0,78.0L195.0,83.0L201.0,82.0L203.0,80.0L206.0,76.0L211.0,75.0L214.0,75.0L216.0,74.0L217.0,71.0L214.0,69.0L212.0,69.0L209.0,68.0L204.0,63.0L203.0,60.0L201.0,58.0Z'}\n"
     ]
    }
   ],
   "source": [
    "import numpy as np\n",
    "import cv2\n",
    "from svgpathtools import Path, Line\n",
    "\n",
    "# # Assume you have a mask image as a NumPy array\n",
    "# mask_image = np.array([\n",
    "#     [0, 0, 0, 0, 0, 0, 0, 0],\n",
    "#     [1, 1, 1, 0, 1, 1, 1, 0],\n",
    "#     [1, 1, 1, 0, 1, 1, 1, 0],\n",
    "#     [1, 1, 1, 0, 1, 1, 1, 0],\n",
    "#     [1, 1, 1, 0, 1, 1, 1, 0],\n",
    "#     [1, 1, 1, 0, 1, 1, 1, 0],\n",
    "#     [1, 1, 1, 0, 1, 1, 1, 0],\n",
    "#     [0, 0, 0, 0, 0, 0, 0, 0]\n",
    "# ], dtype=np.uint8)\n",
    "\n",
    "mask_image = cv2.imread(\"dataset_unique_masks/malignant/malignant (53)_mask.png\", cv2.IMREAD_GRAYSCALE)\n",
    "print(type(mask_image))\n",
    "\n",
    "print(mask_image.shape)\n",
    "\n",
    "# Find contours in the binary image\n",
    "contours, _ = cv2.findContours(mask_image, cv2.RETR_EXTERNAL, cv2.CHAIN_APPROX_TC89_L1)\n",
    "print(contours.__len__())\n",
    "\n",
    "svg_paths = []\n",
    "for c in contours:\n",
    "    svg_path = SvgPath(c)\n",
    "    print(svg_path.to_dict())\n",
    "    svg_paths.append(svg_path)"
   ]
  },
  {
   "cell_type": "code",
   "execution_count": 67,
   "metadata": {},
   "outputs": [
    {
     "data": {
      "image/png": "[encoded data removed]",
      "text/plain": [
       "<Figure size 640x480 with 1 Axes>"
      ]
     },
     "metadata": {},
     "output_type": "display_data"
    }
   ],
   "source": [
    "import matplotlib.pyplot as plt\n",
    "import numpy as np\n",
    "\n",
    "fig = plt.figure()\n",
    "for svg_path in svg_paths:\n",
    "    path = svg_path.path.replace(\"M\", \"\").replace(\"Z\", \"\").split(\"L\")\n",
    "    path_array = np.array([np.array(point.split(','), dtype=float) for point in path])\n",
    "    plt.scatter(path_array[:, 0], path_array[:, 1])\n",
    "    plt.imshow(mask_image, cmap='gray', alpha=1)\n",
    "plt.show()"
   ]
  },
  {
   "cell_type": "code",
   "execution_count": null,
   "metadata": {},
   "outputs": [],
   "source": []
  }
 ],
 "metadata": {
  "kernelspec": {
   "display_name": "Python 3",
   "language": "python",
   "name": "python3"
  },
  "language_info": {
   "codemirror_mode": {
    "name": "ipython",
    "version": 3
   },
   "file_extension": ".py",
   "mimetype": "text/x-python",
   "name": "python",
   "nbconvert_exporter": "python",
   "pygments_lexer": "ipython3",
   "version": "3.10.12"
  }
 },
 "nbformat": 4,
 "nbformat_minor": 2
}
